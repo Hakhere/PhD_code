{
 "cells": [
  {
   "cell_type": "code",
   "execution_count": 271,
   "metadata": {},
   "outputs": [],
   "source": [
    "from pathlib import Path\n",
    "import pandas as pd\n",
    "from datetime import  datetime, timedelta\n",
    "import numpy as np\n",
    "from tqdm.notebook import tqdm "
   ]
  },
  {
   "cell_type": "code",
   "execution_count": 272,
   "metadata": {},
   "outputs": [],
   "source": [
    "path = Path(r'C:\\Users\\Admin\\Documents') /'Purdue Work'/'PhD Purdue'/'Python Codes for research'/'Steele model'"
   ]
  },
  {
   "cell_type": "code",
   "execution_count": 273,
   "metadata": {
    "scrolled": false
   },
   "outputs": [
    {
     "data": {
      "text/html": [
       "<div>\n",
       "<style scoped>\n",
       "    .dataframe tbody tr th:only-of-type {\n",
       "        vertical-align: middle;\n",
       "    }\n",
       "\n",
       "    .dataframe tbody tr th {\n",
       "        vertical-align: top;\n",
       "    }\n",
       "\n",
       "    .dataframe thead th {\n",
       "        text-align: right;\n",
       "    }\n",
       "</style>\n",
       "<table border=\"1\" class=\"dataframe\">\n",
       "  <thead>\n",
       "    <tr style=\"text-align: right;\">\n",
       "      <th></th>\n",
       "      <th>Date</th>\n",
       "      <th>CO2_Headspace</th>\n",
       "      <th>CO2_Plenum</th>\n",
       "    </tr>\n",
       "  </thead>\n",
       "  <tbody>\n",
       "    <tr>\n",
       "      <th>0</th>\n",
       "      <td>2019-09-18 10:54:39.000</td>\n",
       "      <td>3.802920</td>\n",
       "      <td>0.875591</td>\n",
       "    </tr>\n",
       "    <tr>\n",
       "      <th>1</th>\n",
       "      <td>2019-09-18 11:04:39.000</td>\n",
       "      <td>4.202260</td>\n",
       "      <td>0.899825</td>\n",
       "    </tr>\n",
       "    <tr>\n",
       "      <th>2</th>\n",
       "      <td>2019-09-18 11:14:39.000</td>\n",
       "      <td>4.588950</td>\n",
       "      <td>0.914576</td>\n",
       "    </tr>\n",
       "    <tr>\n",
       "      <th>3</th>\n",
       "      <td>2019-09-18 11:24:39.000</td>\n",
       "      <td>4.946930</td>\n",
       "      <td>0.919318</td>\n",
       "    </tr>\n",
       "    <tr>\n",
       "      <th>4</th>\n",
       "      <td>2019-09-18 11:34:40.000</td>\n",
       "      <td>5.292000</td>\n",
       "      <td>0.927484</td>\n",
       "    </tr>\n",
       "    <tr>\n",
       "      <th>...</th>\n",
       "      <td>...</td>\n",
       "      <td>...</td>\n",
       "      <td>...</td>\n",
       "    </tr>\n",
       "    <tr>\n",
       "      <th>44920</th>\n",
       "      <td>2020-07-28 11:54:40.401</td>\n",
       "      <td>9.977262</td>\n",
       "      <td>0.029192</td>\n",
       "    </tr>\n",
       "    <tr>\n",
       "      <th>44921</th>\n",
       "      <td>2020-07-28 12:04:40.431</td>\n",
       "      <td>9.977242</td>\n",
       "      <td>0.029184</td>\n",
       "    </tr>\n",
       "    <tr>\n",
       "      <th>44922</th>\n",
       "      <td>2020-07-28 12:14:40.461</td>\n",
       "      <td>9.977122</td>\n",
       "      <td>0.029195</td>\n",
       "    </tr>\n",
       "    <tr>\n",
       "      <th>44923</th>\n",
       "      <td>2020-07-28 12:24:40.431</td>\n",
       "      <td>9.977045</td>\n",
       "      <td>0.029204</td>\n",
       "    </tr>\n",
       "    <tr>\n",
       "      <th>44924</th>\n",
       "      <td>2020-07-28 12:34:40.471</td>\n",
       "      <td>9.977222</td>\n",
       "      <td>0.029200</td>\n",
       "    </tr>\n",
       "  </tbody>\n",
       "</table>\n",
       "<p>44925 rows × 3 columns</p>\n",
       "</div>"
      ],
      "text/plain": [
       "                         Date  CO2_Headspace  CO2_Plenum\n",
       "0     2019-09-18 10:54:39.000       3.802920    0.875591\n",
       "1     2019-09-18 11:04:39.000       4.202260    0.899825\n",
       "2     2019-09-18 11:14:39.000       4.588950    0.914576\n",
       "3     2019-09-18 11:24:39.000       4.946930    0.919318\n",
       "4     2019-09-18 11:34:40.000       5.292000    0.927484\n",
       "...                       ...            ...         ...\n",
       "44920 2020-07-28 11:54:40.401       9.977262    0.029192\n",
       "44921 2020-07-28 12:04:40.431       9.977242    0.029184\n",
       "44922 2020-07-28 12:14:40.461       9.977122    0.029195\n",
       "44923 2020-07-28 12:24:40.431       9.977045    0.029204\n",
       "44924 2020-07-28 12:34:40.471       9.977222    0.029200\n",
       "\n",
       "[44925 rows x 3 columns]"
      ]
     },
     "execution_count": 273,
     "metadata": {},
     "output_type": "execute_result"
    }
   ],
   "source": [
    "filename = path / 'bin1.xlsx'\n",
    "df = pd.read_excel(filename)\n",
    "df\n",
    "# filename = path / 'Fan Bin5.csv'\n",
    "# bin_5 = pd.read_csv(path / 'Fan Bin5.csv')\n",
    "# bin_5\n"
   ]
  },
  {
   "cell_type": "code",
   "execution_count": 274,
   "metadata": {},
   "outputs": [],
   "source": [
    "# def daily_mean(df,Date,col):\n",
    "#      return df[Date][col].mean()\n",
    "\n",
    "# data = np.random.rand(100)\n",
    "# columns = ['CO2_Plenum']\n",
    "# times = pd.date_range('20190918',freq='24H',periods=100)\n",
    "# df = pd.DataFrame(data=data,index=times,columns=columns)\n",
    "\n",
    "# dates = df.index.strftime('%Y%m%d').unique()\n",
    "# means = [daily_mean(df,date,'A') for date in dates]"
   ]
  },
  {
   "cell_type": "code",
   "execution_count": 275,
   "metadata": {},
   "outputs": [],
   "source": [
    "df['Date'] = pd.to_datetime(df['Date'])\n",
    "df['date'] = df['Date'].apply(lambda t:t.date())"
   ]
  },
  {
   "cell_type": "code",
   "execution_count": 276,
   "metadata": {},
   "outputs": [],
   "source": [
    "# df = df[['Date', 'CO2_Plenum', 'CO2_Headspace']].copy()\n",
    "# df"
   ]
  },
  {
   "cell_type": "code",
   "execution_count": 277,
   "metadata": {},
   "outputs": [],
   "source": [
    "# df.to_csv(path / 'Bin333_daily_avgtest.csv', index=False)"
   ]
  },
  {
   "cell_type": "code",
   "execution_count": 278,
   "metadata": {
    "scrolled": true
   },
   "outputs": [
    {
     "data": {
      "text/html": [
       "<div>\n",
       "<style scoped>\n",
       "    .dataframe tbody tr th:only-of-type {\n",
       "        vertical-align: middle;\n",
       "    }\n",
       "\n",
       "    .dataframe tbody tr th {\n",
       "        vertical-align: top;\n",
       "    }\n",
       "\n",
       "    .dataframe thead th {\n",
       "        text-align: right;\n",
       "    }\n",
       "</style>\n",
       "<table border=\"1\" class=\"dataframe\">\n",
       "  <thead>\n",
       "    <tr style=\"text-align: right;\">\n",
       "      <th></th>\n",
       "      <th>CO2_Headspace</th>\n",
       "      <th>CO2_Plenum</th>\n",
       "    </tr>\n",
       "    <tr>\n",
       "      <th>Date</th>\n",
       "      <th></th>\n",
       "      <th></th>\n",
       "    </tr>\n",
       "  </thead>\n",
       "  <tbody>\n",
       "    <tr>\n",
       "      <th>2019-09-18</th>\n",
       "      <td>9.111999</td>\n",
       "      <td>6.369787</td>\n",
       "    </tr>\n",
       "    <tr>\n",
       "      <th>2019-09-19</th>\n",
       "      <td>7.709602</td>\n",
       "      <td>6.010080</td>\n",
       "    </tr>\n",
       "    <tr>\n",
       "      <th>2019-09-20</th>\n",
       "      <td>8.675030</td>\n",
       "      <td>6.260488</td>\n",
       "    </tr>\n",
       "    <tr>\n",
       "      <th>2019-09-21</th>\n",
       "      <td>9.849992</td>\n",
       "      <td>9.991090</td>\n",
       "    </tr>\n",
       "    <tr>\n",
       "      <th>2019-09-22</th>\n",
       "      <td>9.008159</td>\n",
       "      <td>4.673557</td>\n",
       "    </tr>\n",
       "    <tr>\n",
       "      <th>...</th>\n",
       "      <td>...</td>\n",
       "      <td>...</td>\n",
       "    </tr>\n",
       "    <tr>\n",
       "      <th>2020-07-24</th>\n",
       "      <td>9.976943</td>\n",
       "      <td>0.984136</td>\n",
       "    </tr>\n",
       "    <tr>\n",
       "      <th>2020-07-25</th>\n",
       "      <td>9.976640</td>\n",
       "      <td>0.855975</td>\n",
       "    </tr>\n",
       "    <tr>\n",
       "      <th>2020-07-26</th>\n",
       "      <td>9.976092</td>\n",
       "      <td>0.547083</td>\n",
       "    </tr>\n",
       "    <tr>\n",
       "      <th>2020-07-27</th>\n",
       "      <td>9.976180</td>\n",
       "      <td>0.429587</td>\n",
       "    </tr>\n",
       "    <tr>\n",
       "      <th>2020-07-28</th>\n",
       "      <td>9.978352</td>\n",
       "      <td>0.566480</td>\n",
       "    </tr>\n",
       "  </tbody>\n",
       "</table>\n",
       "<p>315 rows × 2 columns</p>\n",
       "</div>"
      ],
      "text/plain": [
       "            CO2_Headspace  CO2_Plenum\n",
       "Date                                 \n",
       "2019-09-18       9.111999    6.369787\n",
       "2019-09-19       7.709602    6.010080\n",
       "2019-09-20       8.675030    6.260488\n",
       "2019-09-21       9.849992    9.991090\n",
       "2019-09-22       9.008159    4.673557\n",
       "...                   ...         ...\n",
       "2020-07-24       9.976943    0.984136\n",
       "2020-07-25       9.976640    0.855975\n",
       "2020-07-26       9.976092    0.547083\n",
       "2020-07-27       9.976180    0.429587\n",
       "2020-07-28       9.978352    0.566480\n",
       "\n",
       "[315 rows x 2 columns]"
      ]
     },
     "execution_count": 278,
     "metadata": {},
     "output_type": "execute_result"
    }
   ],
   "source": [
    "df= df.groupby(pd.Grouper(freq='D', key='Date')).mean()\n",
    "df\n",
    "# df = df[['Date', 'CO2_Plenum', 'CO2_Headspace']].copy()\n",
    "# df1 = df.groupby('Date', as_index=False).mean()\n",
    "# df1['Time']= pd.to_timedelta(df1[\"Time\"])\n",
    "# daily_avg_df"
   ]
  },
  {
   "cell_type": "code",
   "execution_count": 279,
   "metadata": {},
   "outputs": [],
   "source": [
    "# df2=[df]\n",
    "# df2=df2[['Date','CO2_Plenum']].copy()\n",
    "# df2"
   ]
  },
  {
   "cell_type": "code",
   "execution_count": 280,
   "metadata": {},
   "outputs": [],
   "source": [
    "# df = df[['Date', 'date', 'CO2_Plenum', 'CO2_Headspace']].copy()\n",
    "df.to_csv(path / 'Bin11_daily_avgtest.csv', index=True)"
   ]
  },
  {
   "cell_type": "code",
   "execution_count": 281,
   "metadata": {},
   "outputs": [],
   "source": [
    "# df['Time']= pd.to_timedelta(df[\"Time\"]).values.astype(np.int64)\n",
    "# df1 = df.groupby('Date', as_index=False).mean()\n",
    "# df1['Time']= pd.to_timedelta(df1[\"Time\"])\n",
    "# print (df1)"
   ]
  },
  {
   "cell_type": "code",
   "execution_count": null,
   "metadata": {},
   "outputs": [],
   "source": []
  },
  {
   "cell_type": "code",
   "execution_count": null,
   "metadata": {},
   "outputs": [],
   "source": []
  }
 ],
 "metadata": {
  "kernelspec": {
   "display_name": "Python 3",
   "language": "python",
   "name": "python3"
  },
  "language_info": {
   "codemirror_mode": {
    "name": "ipython",
    "version": 3
   },
   "file_extension": ".py",
   "mimetype": "text/x-python",
   "name": "python",
   "nbconvert_exporter": "python",
   "pygments_lexer": "ipython3",
   "version": "3.8.5"
  }
 },
 "nbformat": 4,
 "nbformat_minor": 4
}
