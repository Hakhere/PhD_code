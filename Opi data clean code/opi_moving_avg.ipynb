{
 "cells": [
  {
   "cell_type": "code",
   "execution_count": 1,
   "metadata": {},
   "outputs": [],
   "source": [
    "from pathlib import Path\n",
    "import pandas as pd\n",
    "from tqdm.notebook import tqdm \n",
    "from datetime import  datetime, timedelta\n",
    "import numpy as np\n",
    "import matplotlib.pyplot as plt\n",
    "from matplotlib.dates import DateFormatter, MonthLocator"
   ]
  },
  {
   "cell_type": "code",
   "execution_count": 2,
   "metadata": {},
   "outputs": [],
   "source": [
    "# Set the directory\n",
    "#Run this first for OPI cleaning\n",
    "# OPI CLEANING AND AVERAGING\n",
    "#path = Path('U:') / 'Opi system file' / 'SQL database'/ 'New Data Processing'\n",
    "#path = Path('W:') / 'Amber Ag' /'ASABE 2022'/'OPI_raw'/'bin16_opi'/'b16 grainbulk'\n",
    "path = Path('W:') / 'Amber Ag' /'ASABE 2022'/'OPI_raw'\n"
   ]
  },
  {
   "cell_type": "code",
   "execution_count": 9,
   "metadata": {},
   "outputs": [],
   "source": [
    "#df = pd.read_csv (path / 'Avg_hourly_grain_temps_5sensors_b5.csv')\n",
    "\n",
    "filename = path / 'Avg_hourly_grain_temps_5sens_b14check20feb23.csv'\n",
    "df = pd.read_csv(filename)\n",
    "#df = pd.read_excel(filename)\n",
    "\n",
    "# Original file name\n",
    "#filename = path / 'Bin13_clean_data.xlsx'\n",
    "#df = pd.read_excel(filename, sheet_name = 'Sheet1')\n",
    "\n",
    "#xls = pd.ExcelFile ('W:/Amber Ag/Amber clean data/Bin 13 review/Measured_CO2_bin13.xlsx')\n",
    "#mf = pd.read_excel(xls, sheet_name = 'Sheet1')\n",
    "#mf\n",
    "\n",
    "df['OPI_DATE'] = pd.to_datetime(df['OPI_DATE'])\n",
    "columns = df.columns\n",
    "df = df.set_index('OPI_DATE')\n"
   ]
  },
  {
   "cell_type": "code",
   "execution_count": 10,
   "metadata": {},
   "outputs": [],
   "source": [
    "data = []\n",
    "for timestamp in sorted(df.index.to_list(), reverse=True):\n",
    "    added_data = df.loc[timestamp-timedelta(hours=24):timestamp].mean().to_dict() \n",
    "    added_data['OPI_DATE'] = timestamp\n",
    "    data.append(added_data)"
   ]
  },
  {
   "cell_type": "code",
   "execution_count": 11,
   "metadata": {},
   "outputs": [
    {
     "ename": "",
     "evalue": "",
     "output_type": "error",
     "traceback": [
      "\u001b[1;31mThe Kernel crashed while executing code in the the current cell or a previous cell. Please review the code in the cell(s) to identify a possible cause of the failure. Click <a href='https://aka.ms/vscodeJupyterKernelCrash'>here</a> for more info. View Jupyter <a href='command:jupyter.viewOutput'>log</a> for further details."
     ]
    }
   ],
   "source": [
    "mv_avg_df = pd.DataFrame(data, columns=columns).sort_values(['OPI_DATE'], ignore_index=True)\n",
    "mv_avg_df\n",
    "mv_avg_df.to_excel(path/'Bin14_check_24hrs_movin_opi_20feb23.xlsx', index=False)\n"
   ]
  },
  {
   "cell_type": "code",
   "execution_count": 29,
   "metadata": {},
   "outputs": [
    {
     "ename": "",
     "evalue": "",
     "output_type": "error",
     "traceback": [
      "\u001b[1;31mThe Kernel crashed while executing code in the the current cell or a previous cell. Please review the code in the cell(s) to identify a possible cause of the failure. Click <a href='https://aka.ms/vscodeJupyterKernelCrash'>here</a> for more info. View Jupyter <a href='command:jupyter.viewOutput'>log</a> for further details."
     ]
    }
   ],
   "source": [
    "#converting to regular time (which then becomes a string)\n",
    "#Excel will not be able to read the date format\n",
    "#mv_avg_df['OPI_DATE'] = mv_avg_df['OPI_DATE'].apply(lambda x: datetime.strftime(x, '%m/%d/%Y %I:%M %p'))\n",
    "#mv_avg_df"
   ]
  }
 ],
 "metadata": {
  "kernelspec": {
   "display_name": "Python 3.8.3 64-bit",
   "language": "python",
   "name": "python3"
  },
  "language_info": {
   "codemirror_mode": {
    "name": "ipython",
    "version": 3
   },
   "file_extension": ".py",
   "mimetype": "text/x-python",
   "name": "python",
   "nbconvert_exporter": "python",
   "pygments_lexer": "ipython3",
   "version": "3.8.3 (tags/v3.8.3:6f8c832, May 13 2020, 22:37:02) [MSC v.1924 64 bit (AMD64)]"
  },
  "orig_nbformat": 4,
  "vscode": {
   "interpreter": {
    "hash": "570feb405e2e27c949193ac68f46852414290d515b0ba6e5d90d076ed2284471"
   }
  }
 },
 "nbformat": 4,
 "nbformat_minor": 2
}
