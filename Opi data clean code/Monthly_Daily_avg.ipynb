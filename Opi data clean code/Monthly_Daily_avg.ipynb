{
 "cells": [
  {
   "cell_type": "code",
   "execution_count": 4,
   "metadata": {},
   "outputs": [],
   "source": [
    "from pathlib import Path\n",
    "import pandas as pd\n",
    "from tqdm.notebook import tqdm \n",
    "from datetime import  datetime, timedelta\n",
    "#import numpy as np\n",
    "#import matplotlib.pyplot as plt\n",
    "#from matplotlib.dates import DateFormatter, MonthLocator"
   ]
  },
  {
   "cell_type": "code",
   "execution_count": 27,
   "metadata": {},
   "outputs": [
    {
     "data": {
      "text/plain": [
       "Date                  datetime64[ns]\n",
       "Grain Bulk RH                float64\n",
       "EMC Center                   float64\n",
       "Ambient Temp                 float64\n",
       "Ambient RH                   float64\n",
       "Headspace Temp               float64\n",
       "Headspace RH                 float64\n",
       "Headspace Pressure           float64\n",
       "Headspace CO2                float64\n",
       "Plenum Temp                  float64\n",
       "Plenum RH                    float64\n",
       "Plenum Pressure              float64\n",
       "Plenum CO2                   float64\n",
       "Temp C1                      float64\n",
       "Temp C2                      float64\n",
       "Temp C3                      float64\n",
       "Temp C5                      float64\n",
       "Average Grain Temp           float64\n",
       "dtype: object"
      ]
     },
     "execution_count": 27,
     "metadata": {},
     "output_type": "execute_result"
    }
   ],
   "source": [
    "#df = pd.read_csv (\"U:\\\\Amber Ag\\ASABE 2022\\Bin13_amber_raw\\B13_clean_hp_pl\\Bin13_pl_clean.csv\")\n",
    "#df\n",
    "\n",
    "# #df = pd.read_excel (\"U:\\\\Amber Ag\\ASABE 2022\\Bin16_amber_raw\\B16_clean_hp_pl\\Bin16_hp_clean.xlsx\")\n",
    "# #df\n",
    "# df = pd.read_excel (\"U:\\\\Amber Ag\\ASABE 2022\\Ambient_Nov20-toNov2021\\Ambient_clean\\Amb_temp_rh_Nov20-Nov21.xlsx\", sheet_name = 'Sheet2')\n",
    "# #df = (df, sheet_name = 'Sheet1')\n",
    "# df\n",
    "path='U:\\\\Amber Ag\\ASABE 2022\\Bin16_amber_raw\\B16_clean_hp_pl'\n",
    "df = pd.read_excel (\"U:\\\\Amber Ag\\ASABE 2022\\Bin16_amber_raw\\B16_clean_hp_pl\\B16_All_merge_dailyavg.xlsx\")\n",
    "# print(df.types)\n",
    "\n",
    "#df['EMC center'] = df['EMC center'].astype(float)\n",
    "# df = df.astype({'Fee':'float','Discount':'float'})\n",
    "# df['EMC center'] = df.to_numeric(df['EMC center'])\n",
    "# df['Ambient temp'] = df.to_numeric(df['Ambient temp'])\n",
    "# df['Ambient RH'] = df.to_numeric(df['Ambient RH'])\n",
    "# df['Grain bulk RH'] = df.to_numeric(df['Grain bulk RH'])\n",
    "df.dtypes"
   ]
  },
  {
   "cell_type": "code",
   "execution_count": 28,
   "metadata": {},
   "outputs": [
    {
     "name": "stdout",
     "output_type": "stream",
     "text": [
      "            Grain Bulk RH  EMC Center  Ambient Temp  Ambient RH  \\\n",
      "Date                                                              \n",
      "2021-05-31      65.136963   13.879029     17.873765   65.736319   \n",
      "2021-06-30      60.712430   13.107349     23.258295   68.288069   \n",
      "2021-07-31      58.927085   13.178385     22.610704   80.492348   \n",
      "2021-08-31      58.043187   12.676051     23.580735   75.950712   \n",
      "2021-09-30      59.831577   13.080436     20.304434   67.318611   \n",
      "2021-10-31      67.565230   14.268639     14.344546   78.865567   \n",
      "2021-11-30      76.246111   16.004333      3.159182   71.690139   \n",
      "\n",
      "            Headspace Temp  Headspace RH  Headspace Pressure  Headspace CO2  \\\n",
      "Date                                                                          \n",
      "2021-05-31       22.635133     56.427471        99410.304760     498.923529   \n",
      "2021-06-30       26.991762     56.660986        98901.578215     504.408684   \n",
      "2021-07-31       27.977918     58.221025        99116.134630     561.409094   \n",
      "2021-08-31       29.007154     55.049318        99117.088173     650.104932   \n",
      "2021-09-30       23.980352     57.201862        99000.603192     609.177120   \n",
      "2021-10-31       16.598893     63.869738        98777.052213     604.258155   \n",
      "2021-11-30        5.397848     71.335739       100007.012077     541.051329   \n",
      "\n",
      "            Plenum Temp  Plenum RH  Plenum Pressure  Plenum CO2    Temp C1  \\\n",
      "Date                                                                         \n",
      "2021-05-31    19.298998  63.759618     99437.504913  458.015243  19.194334   \n",
      "2021-06-30    24.067464  69.786153     98841.541201  474.893424  25.171758   \n",
      "2021-07-31    24.888307  80.776765     99032.582516  526.320805  28.050399   \n",
      "2021-08-31    25.424341  71.941769     99166.244006  617.766872  26.967978   \n",
      "2021-09-30    22.054212  64.797727     99080.483476  512.121651  23.131725   \n",
      "2021-10-31    16.592003  76.758208     98809.563722  533.932760  16.198195   \n",
      "2021-11-30     7.990452  65.861199    100080.575483  517.510266   6.472377   \n",
      "\n",
      "              Temp C2    Temp C3    Temp C5  Average Grain Temp  \n",
      "Date                                                             \n",
      "2021-05-31  18.797174  18.653493  19.154404           19.516367  \n",
      "2021-06-30  24.165500  23.717580  24.551808           24.549477  \n",
      "2021-07-31  26.620418  25.880970  27.383728           27.101018  \n",
      "2021-08-31  25.513842  25.363530  26.369180           26.053633  \n",
      "2021-09-30  21.191659  21.583401  22.294709           22.050373  \n",
      "2021-10-31  15.382168  16.027875  16.635558           16.060949  \n",
      "2021-11-30   7.166744   7.693673   8.802855            7.533912  \n"
     ]
    }
   ],
   "source": [
    "#df['Date'] = pd.to_datetime(df['Date'], format='%m/%d/%Y %H:%M:%S %p')\n",
    "#df['datetime_utc'] = pd.to_datetime(df['datetime_utc'], format='%m/%d/%Y %H:%M')\n",
    "df['Date'] = pd.to_datetime(df['Date'], format='%m/%d/%Y %H:%M:%S %p')\n",
    "#df['datetime_utc'] = pd.to_datetime(df['datetime_utc'], format='%m/%d/%Y %H:%M')\n",
    "#data['datetime_utc'] = pd.to_datetime(data['datetime_utc'], format='%Y-%m-%d')\n",
    "# daily\n",
    "\n",
    "#df['Date'] = pd.to_datetime(df['Date'], format='%Y-%m-%d')\n",
    "# daily\n",
    "#Daily_average = df.groupby(pd.Grouper(freq='D', key='Date')).mean()\n",
    "#Daily_average.to_csv(path+ '\\Ambient_rh_dailyavg.csv') \n",
    "Monthly_average = df.groupby(pd.Grouper(freq='M', key='Date')).mean().sort_values('Date')\n",
    "print(Monthly_average)\n",
    "Monthly_average.to_csv(path+'\\B16_All_merge_monthlyavg.csv') "
   ]
  },
  {
   "cell_type": "code",
   "execution_count": 29,
   "metadata": {},
   "outputs": [],
   "source": [
    "#the code above works for mean. \n",
    "#if you want to be specific on the date for mean, delete/comment the code above this and use\n",
    "#the code below"
   ]
  }
 ],
 "metadata": {
  "kernelspec": {
   "display_name": "Python 3",
   "language": "python",
   "name": "python3"
  },
  "language_info": {
   "codemirror_mode": {
    "name": "ipython",
    "version": 3
   },
   "file_extension": ".py",
   "mimetype": "text/x-python",
   "name": "python",
   "nbconvert_exporter": "python",
   "pygments_lexer": "ipython3",
   "version": "3.10.1"
  },
  "orig_nbformat": 4,
  "vscode": {
   "interpreter": {
    "hash": "570feb405e2e27c949193ac68f46852414290d515b0ba6e5d90d076ed2284471"
   }
  }
 },
 "nbformat": 4,
 "nbformat_minor": 2
}
