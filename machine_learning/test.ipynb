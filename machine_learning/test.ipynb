{
 "cells": [
  {
   "cell_type": "code",
   "execution_count": 3,
   "metadata": {},
   "outputs": [
    {
     "name": "stdout",
     "output_type": "stream",
     "text": [
      "           Amb_date_x    Amb_T_x           OPI_date2   Grain_T2  \\\n",
      "0 2020-11-03 15:00:00  19.038889 2020-11-03 16:51:00  13.720556   \n",
      "1 2020-11-03 16:00:00  19.322222 2020-11-03 17:51:00  11.938056   \n",
      "2 2020-11-03 17:00:00  19.305556 2020-11-04 12:28:00  14.772037   \n",
      "3 2020-11-03 18:00:00  18.668056 2020-11-04 13:29:00  14.445972   \n",
      "4 2020-11-03 19:00:00  17.697778 2020-11-04 14:29:00  14.303333   \n",
      "\n",
      "           Amb_date_y    Amb_T_y Amb_date  Amb_T2  \n",
      "0 2020-11-03 17:00:00  19.305556      NaT     NaN  \n",
      "1 2020-11-03 18:00:00  18.668056      NaT     NaN  \n",
      "2 2020-11-04 12:00:00  13.072475      NaT     NaN  \n",
      "3 2020-11-04 13:00:00  13.379469      NaT     NaN  \n",
      "4 2020-11-04 14:00:00  13.722685      NaT     NaN  \n"
     ]
    }
   ],
   "source": [
    "#import pandas as pd\n",
    "#df = pd.read_excel(\"U:\\\\Python Practice File\\\\machine_learning\\\\Test_T.xlsx\")\n",
    "\n",
    "import pandas as pd\n",
    "\n",
    "# Load the Excel file\n",
    "df = pd.read_excel(\"U:\\\\Python Practice File\\\\machine_learning\\\\Test_T.xlsx\")\n",
    "\n",
    "# Convert datetime columns to datetime format\n",
    "df['OPI_date'] = pd.to_datetime(df['OPI_date'])\n",
    "df['Amb_date'] = pd.to_datetime(df['Amb_date'])\n",
    "\n",
    "# Filter out rows with missing 'OPI_date' only during the merge\n",
    "df_filtered = df.dropna(subset=['OPI_date'])\n",
    "\n",
    "# Merge based on the closest timestamp, while keeping rows with missing 'OPI_date'\n",
    "df_merged = pd.merge_asof(df_filtered.sort_values('OPI_date'), \n",
    "                           df[['Amb_date', 'Amb_T']].sort_values('Amb_date'), \n",
    "                           left_on='OPI_date', \n",
    "                           right_on='Amb_date', \n",
    "                           direction='nearest')\n",
    "\n",
    "# Merge back with the original dataframe to retain rows with missing 'OPI_date'\n",
    "df_final = pd.concat([df_merged, df[df['OPI_date'].isna()]], ignore_index=True)\n",
    "\n",
    "# Rename columns for clarity\n",
    "df_final.rename(columns={'OPI_date': 'OPI_date2', 'Grain_T': 'Grain_T2', 'Amb_T': 'Amb_T2'}, inplace=True)\n",
    "\n",
    "# Save or display result\n",
    "df_final.to_excel(\"Merged_Output.xlsx\", index=False)\n",
    "print(df_final.head())"
   ]
  }
 ],
 "metadata": {
  "kernelspec": {
   "display_name": "envml",
   "language": "python",
   "name": "python3"
  },
  "language_info": {
   "codemirror_mode": {
    "name": "ipython",
    "version": 3
   },
   "file_extension": ".py",
   "mimetype": "text/x-python",
   "name": "python",
   "nbconvert_exporter": "python",
   "pygments_lexer": "ipython3",
   "version": "3.12.9"
  }
 },
 "nbformat": 4,
 "nbformat_minor": 2
}
